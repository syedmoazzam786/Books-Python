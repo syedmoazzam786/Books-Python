{
  "nbformat": 4,
  "nbformat_minor": 0,
  "metadata": {
    "colab": {
      "provenance": [],
      "authorship_tag": "ABX9TyPrnN1IjRYa1/vawpa2ZHew",
      "include_colab_link": true
    },
    "kernelspec": {
      "name": "python3",
      "display_name": "Python 3"
    },
    "language_info": {
      "name": "python"
    }
  },
  "cells": [
    {
      "cell_type": "markdown",
      "metadata": {
        "id": "view-in-github",
        "colab_type": "text"
      },
      "source": [
        "<a href=\"https://colab.research.google.com/github/syedmoazzam786/Books-Python/blob/main/pre_placement_training_assignment_2.ipynb\" target=\"_parent\"><img src=\"https://colab.research.google.com/assets/colab-badge.svg\" alt=\"Open In Colab\"/></a>"
      ]
    },
    {
      "cell_type": "code",
      "execution_count": 1,
      "metadata": {
        "id": "JN8oA6gRlREC"
      },
      "outputs": [],
      "source": [
        "#answer 1\n",
        "def arrayPairSum(nums):\n",
        "    nums.sort()  # Sort the array in ascending order\n",
        "    max_sum = 0\n",
        "\n",
        "    for i in range(0, len(nums), 2):\n",
        "        max_sum += nums[i]\n",
        "\n",
        "    return max_sum\n"
      ]
    },
    {
      "cell_type": "code",
      "source": [
        "nums = [1, 4, 3, 2]\n",
        "print(arrayPairSum(nums))\n"
      ],
      "metadata": {
        "colab": {
          "base_uri": "https://localhost:8080/"
        },
        "id": "ni1mVGaEld8m",
        "outputId": "1c1a6fe4-4131-424b-82c5-a4e51151fa7f"
      },
      "execution_count": 2,
      "outputs": [
        {
          "output_type": "stream",
          "name": "stdout",
          "text": [
            "4\n"
          ]
        }
      ]
    },
    {
      "cell_type": "code",
      "source": [
        "#answer 2\n",
        "def maxCandies(candyType):\n",
        "    unique_candies = set()\n",
        "\n",
        "    for candy in candyType:\n",
        "        unique_candies.add(candy)\n",
        "\n",
        "    max_candies = min(len(unique_candies), len(candyType) // 2)\n",
        "\n",
        "    return max_candies\n"
      ],
      "metadata": {
        "id": "1vUYujVwlkW0"
      },
      "execution_count": 3,
      "outputs": []
    },
    {
      "cell_type": "code",
      "source": [
        "candyType = [1, 1, 2, 2, 3, 3]\n",
        "print(maxCandies(candyType))\n"
      ],
      "metadata": {
        "colab": {
          "base_uri": "https://localhost:8080/"
        },
        "id": "IZv4yQxnl4ZB",
        "outputId": "3ead4ec8-5a95-411b-f7c4-dbc06f1bf39c"
      },
      "execution_count": 4,
      "outputs": [
        {
          "output_type": "stream",
          "name": "stdout",
          "text": [
            "3\n"
          ]
        }
      ]
    },
    {
      "cell_type": "code",
      "source": [
        "#answer 3\n",
        "def findLHS(nums):\n",
        "    num_count = {}\n",
        "    max_length = 0\n",
        "\n",
        "    for num in nums:\n",
        "        num_count[num] = num_count.get(num, 0) + 1\n",
        "\n",
        "    for num in num_count:\n",
        "        if num + 1 in num_count:\n",
        "            max_length = max(max_length, num_count[num] + num_count[num + 1])\n",
        "\n",
        "    return max_length\n"
      ],
      "metadata": {
        "id": "VvB5ZJTwl8fA"
      },
      "execution_count": 5,
      "outputs": []
    },
    {
      "cell_type": "code",
      "source": [
        "nums = [1, 3, 2, 2, 5, 2, 3, 7]\n",
        "print(findLHS(nums))\n"
      ],
      "metadata": {
        "colab": {
          "base_uri": "https://localhost:8080/"
        },
        "id": "pNwEwVtEmZ2Z",
        "outputId": "a9b21dd5-3cd2-4c57-e5a0-c260fc86cee0"
      },
      "execution_count": 6,
      "outputs": [
        {
          "output_type": "stream",
          "name": "stdout",
          "text": [
            "5\n"
          ]
        }
      ]
    },
    {
      "cell_type": "code",
      "source": [
        "#answer 4\n",
        "def canPlaceFlowers(flowerbed, n):\n",
        "    count = 0\n",
        "    length = len(flowerbed)\n",
        "\n",
        "    for i in range(length):\n",
        "        if (\n",
        "            flowerbed[i] == 0 and\n",
        "            (i == 0 or flowerbed[i - 1] == 0) and\n",
        "            (i == length - 1 or flowerbed[i + 1] == 0)\n",
        "        ):\n",
        "            flowerbed[i] = 1\n",
        "            count += 1\n",
        "            n -= 1\n",
        "\n",
        "        if n == 0:\n",
        "            return True\n",
        "\n",
        "    return False\n"
      ],
      "metadata": {
        "id": "Tikulbb3meXb"
      },
      "execution_count": 7,
      "outputs": []
    },
    {
      "cell_type": "code",
      "source": [
        "flowerbed = [1, 0, 0, 0, 1]\n",
        "n = 1\n",
        "print(canPlaceFlowers(flowerbed, n))\n"
      ],
      "metadata": {
        "colab": {
          "base_uri": "https://localhost:8080/"
        },
        "id": "F9G05MMPm1FU",
        "outputId": "1ab03c8b-5c33-4e9f-aae3-f5af638cfdf3"
      },
      "execution_count": 8,
      "outputs": [
        {
          "output_type": "stream",
          "name": "stdout",
          "text": [
            "True\n"
          ]
        }
      ]
    },
    {
      "cell_type": "code",
      "source": [
        "# answer 5\n",
        "def maximumProduct(nums):\n",
        "    nums.sort()\n",
        "    product1 = nums[-1] * nums[-2] * nums[-3]\n",
        "    product2 = nums[0] * nums[1] * nums[-1]\n",
        "    return max(product1, product2)\n"
      ],
      "metadata": {
        "id": "Mpuf13pkm5um"
      },
      "execution_count": 9,
      "outputs": []
    },
    {
      "cell_type": "code",
      "source": [
        "nums = [1, 2, 3]\n",
        "print(maximumProduct(nums))\n"
      ],
      "metadata": {
        "colab": {
          "base_uri": "https://localhost:8080/"
        },
        "id": "LEQyDBRPrf_R",
        "outputId": "7aea31d5-0d14-45d3-93bf-d60a7fc755a4"
      },
      "execution_count": 10,
      "outputs": [
        {
          "output_type": "stream",
          "name": "stdout",
          "text": [
            "6\n"
          ]
        }
      ]
    },
    {
      "cell_type": "code",
      "source": [
        "# answer 6\n",
        "def search(nums, target):\n",
        "    left, right = 0, len(nums) - 1\n",
        "\n",
        "    while left <= right:\n",
        "        mid = (left + right) // 2\n",
        "\n",
        "        if nums[mid] == target:\n",
        "            return mid\n",
        "        elif nums[mid] < target:\n",
        "            left = mid + 1\n",
        "        else:\n",
        "            right = mid - 1\n",
        "\n",
        "    return -1\n"
      ],
      "metadata": {
        "id": "JAtdIIujrtcX"
      },
      "execution_count": 11,
      "outputs": []
    },
    {
      "cell_type": "code",
      "source": [
        "nums = [-1, 0, 3, 5, 9, 12]\n",
        "target = 9\n",
        "print(search(nums, target))\n"
      ],
      "metadata": {
        "colab": {
          "base_uri": "https://localhost:8080/"
        },
        "id": "ufon1srLsPYk",
        "outputId": "03e8113a-55c9-421f-e005-d10cb692a92f"
      },
      "execution_count": 12,
      "outputs": [
        {
          "output_type": "stream",
          "name": "stdout",
          "text": [
            "4\n"
          ]
        }
      ]
    },
    {
      "cell_type": "code",
      "source": [
        "# answer 7\n",
        "def isMonotonic(nums):\n",
        "    isIncreasing = True\n",
        "    isDecreasing = True\n",
        "\n",
        "    for i in range(1, len(nums)):\n",
        "        if nums[i] < nums[i - 1]:\n",
        "            isIncreasing = False\n",
        "        if nums[i] > nums[i - 1]:\n",
        "            isDecreasing = False\n",
        "\n",
        "    return isIncreasing or isDecreasing\n"
      ],
      "metadata": {
        "id": "zjNzivxNsTeN"
      },
      "execution_count": 13,
      "outputs": []
    },
    {
      "cell_type": "code",
      "source": [
        "nums = [1, 2, 2, 3]\n",
        "print(isMonotonic(nums))\n"
      ],
      "metadata": {
        "colab": {
          "base_uri": "https://localhost:8080/"
        },
        "id": "MZiVU4e3spTJ",
        "outputId": "51fa472f-02ae-4bcb-c3b1-2d99fefd844c"
      },
      "execution_count": 14,
      "outputs": [
        {
          "output_type": "stream",
          "name": "stdout",
          "text": [
            "True\n"
          ]
        }
      ]
    },
    {
      "cell_type": "code",
      "source": [
        "# answer 8\n",
        "def minimumScore(nums, k):\n",
        "    min_val = float('inf')\n",
        "    max_val = float('-inf')\n",
        "\n",
        "    for num in nums:\n",
        "        min_val = min(min_val, num)\n",
        "        max_val = max(max_val, num)\n",
        "\n",
        "    if max_val - min_val > 2 * k:\n",
        "        return max_val - k - min_val if max_val - k > min_val + k else max_val - min_val - k\n",
        "    else:\n",
        "        return max_val - min_val\n"
      ],
      "metadata": {
        "id": "_agQE0rusrAq"
      },
      "execution_count": 15,
      "outputs": []
    },
    {
      "cell_type": "code",
      "source": [
        "nums = [1]\n",
        "k = 0\n",
        "print(minimumScore(nums, k))\n"
      ],
      "metadata": {
        "colab": {
          "base_uri": "https://localhost:8080/"
        },
        "id": "XHzRww0Zs9q3",
        "outputId": "70bb7c18-cdff-41ca-991c-74efbd582d50"
      },
      "execution_count": 16,
      "outputs": [
        {
          "output_type": "stream",
          "name": "stdout",
          "text": [
            "0\n"
          ]
        }
      ]
    },
    {
      "cell_type": "code",
      "source": [],
      "metadata": {
        "id": "t-MQlT-as-nF"
      },
      "execution_count": null,
      "outputs": []
    }
  ]
}