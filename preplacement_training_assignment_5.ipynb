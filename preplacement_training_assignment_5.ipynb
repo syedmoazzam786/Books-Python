{
  "nbformat": 4,
  "nbformat_minor": 0,
  "metadata": {
    "colab": {
      "provenance": [],
      "authorship_tag": "ABX9TyOmY7PgJVgs+laYnHoiF40e",
      "include_colab_link": true
    },
    "kernelspec": {
      "name": "python3",
      "display_name": "Python 3"
    },
    "language_info": {
      "name": "python"
    }
  },
  "cells": [
    {
      "cell_type": "markdown",
      "metadata": {
        "id": "view-in-github",
        "colab_type": "text"
      },
      "source": [
        "<a href=\"https://colab.research.google.com/github/syedmoazzam786/Books-Python/blob/main/preplacement_training_assignment_5.ipynb\" target=\"_parent\"><img src=\"https://colab.research.google.com/assets/colab-badge.svg\" alt=\"Open In Colab\"/></a>"
      ]
    },
    {
      "cell_type": "code",
      "execution_count": 1,
      "metadata": {
        "colab": {
          "base_uri": "https://localhost:8080/"
        },
        "id": "_H9oe9w62vGM",
        "outputId": "0731bf3e-4ab7-4656-c636-173db47bbda6"
      },
      "outputs": [
        {
          "output_type": "stream",
          "name": "stdout",
          "text": [
            "[[1, 2], [3, 4]]\n"
          ]
        }
      ],
      "source": [
        "# answer 1\n",
        "def convertTo2D(original, m, n):\n",
        "    length = len(original)\n",
        "    if length % n != 0:\n",
        "        return []\n",
        "\n",
        "    result = [[0] * n for _ in range(m)]\n",
        "    for i in range(m):\n",
        "        start = i * n\n",
        "        result[i] = original[start:start+n]\n",
        "\n",
        "    return result\n",
        "original = [1, 2, 3, 4]\n",
        "m = 2\n",
        "n = 2\n",
        "print(convertTo2D(original, m, n))\n"
      ]
    },
    {
      "cell_type": "code",
      "source": [
        "# answer 2\n",
        "def countCompleteRows(n):\n",
        "    k = 0\n",
        "    total_sum = 0\n",
        "    while total_sum + k + 1 <= n:\n",
        "        k += 1\n",
        "        total_sum += k\n",
        "    return k\n"
      ],
      "metadata": {
        "id": "PZM4fsq-3PPR"
      },
      "execution_count": 2,
      "outputs": []
    },
    {
      "cell_type": "code",
      "source": [
        "n = 5\n",
        "print(countCompleteRows(n))\n"
      ],
      "metadata": {
        "colab": {
          "base_uri": "https://localhost:8080/"
        },
        "id": "GqJcPE0q4tZE",
        "outputId": "c74d43af-09b2-49c9-f693-655fd2ce6f71"
      },
      "execution_count": 3,
      "outputs": [
        {
          "output_type": "stream",
          "name": "stdout",
          "text": [
            "2\n"
          ]
        }
      ]
    },
    {
      "cell_type": "code",
      "source": [
        "#answer3\n",
        "def sortedSquares(nums):\n",
        "    result = []\n",
        "    left = 0\n",
        "    right = len(nums) - 1\n",
        "\n",
        "    while left <= right:\n",
        "        square_left = nums[left] ** 2\n",
        "        square_right = nums[right] ** 2\n",
        "\n",
        "        if square_left > square_right:\n",
        "            result.append(square_left)\n",
        "            left += 1\n",
        "        else:\n",
        "            result.append(square_right)\n",
        "            right -= 1\n",
        "\n",
        "    for i in range(right, left - 1, -1):\n",
        "        result.append(nums[i] ** 2)\n",
        "\n",
        "    return result[::-1]\n"
      ],
      "metadata": {
        "id": "TDWr-2aY5x6A"
      },
      "execution_count": 7,
      "outputs": []
    },
    {
      "cell_type": "code",
      "source": [
        "nums = [-4, -1, 0, 3, 10]\n",
        "print(sortedSquares(nums))\n"
      ],
      "metadata": {
        "colab": {
          "base_uri": "https://localhost:8080/"
        },
        "id": "mBNzXAEL6lT6",
        "outputId": "fda5533b-fcd7-4424-ae46-f9b300012dfc"
      },
      "execution_count": 8,
      "outputs": [
        {
          "output_type": "stream",
          "name": "stdout",
          "text": [
            "[0, 1, 9, 16, 100]\n"
          ]
        }
      ]
    },
    {
      "cell_type": "code",
      "source": [
        "# answer 4\n",
        "def findDisappearedNumbers(nums1, nums2):\n",
        "    set1 = set(nums1)\n",
        "    set2 = set(nums2)\n",
        "\n",
        "    diff1 = list(set1 - set2)\n",
        "    diff2 = list(set2 - set1)\n",
        "\n",
        "    return [diff1, diff2]\n",
        "nums1 = [1, 2, 3]\n",
        "nums2 = [2, 4, 6]\n",
        "print(findDisappearedNumbers(nums1, nums2))\n"
      ],
      "metadata": {
        "colab": {
          "base_uri": "https://localhost:8080/"
        },
        "id": "nzI-sViD6pLX",
        "outputId": "59b9a8c4-6eee-4032-aa38-0ac1a1a43b9f"
      },
      "execution_count": 9,
      "outputs": [
        {
          "output_type": "stream",
          "name": "stdout",
          "text": [
            "[[1, 3], [4, 6]]\n"
          ]
        }
      ]
    },
    {
      "cell_type": "code",
      "source": [
        "#answer 5\n",
        "def findDistanceValue(arr1, arr2, d):\n",
        "    count = 0\n",
        "\n",
        "    for num1 in arr1:\n",
        "        for num2 in arr2:\n",
        "            if abs(num1 - num2) <= d:\n",
        "                break\n",
        "        else:\n",
        "            count += 1\n",
        "\n",
        "    return count\n",
        "arr1 = [4, 5, 8]\n",
        "arr2 = [10, 9, 1, 8]\n",
        "d = 2\n",
        "print(findDistanceValue(arr1, arr2, d))\n"
      ],
      "metadata": {
        "colab": {
          "base_uri": "https://localhost:8080/"
        },
        "id": "ZlwqkhQY847v",
        "outputId": "8793471d-1ccf-42c8-9e49-5f12f44ec61d"
      },
      "execution_count": 10,
      "outputs": [
        {
          "output_type": "stream",
          "name": "stdout",
          "text": [
            "2\n"
          ]
        }
      ]
    },
    {
      "cell_type": "code",
      "source": [
        "#answer 6\n",
        "def findDuplicates(nums):\n",
        "    result = []\n",
        "\n",
        "    for num in nums:\n",
        "        index = abs(num) - 1\n",
        "        if nums[index] > 0:\n",
        "            nums[index] *= -1\n",
        "        else:\n",
        "            result.append(abs(num))\n",
        "\n",
        "    return result\n",
        "nums = [4, 3, 2, 7, 8, 2, 3, 1]\n",
        "print(findDuplicates(nums))\n"
      ],
      "metadata": {
        "colab": {
          "base_uri": "https://localhost:8080/"
        },
        "id": "WS6z4tjP9rQ9",
        "outputId": "07fc2a64-0c62-42a9-89d2-4fd264c09392"
      },
      "execution_count": 11,
      "outputs": [
        {
          "output_type": "stream",
          "name": "stdout",
          "text": [
            "[2, 3]\n"
          ]
        }
      ]
    },
    {
      "cell_type": "code",
      "source": [
        "#answer7\n",
        "def findMin(nums):\n",
        "    left = 0\n",
        "    right = len(nums) - 1\n",
        "\n",
        "    while left < right:\n",
        "        if nums[left] < nums[right]:\n",
        "            return nums[left]\n",
        "\n",
        "        mid = left + (right - left) // 2\n",
        "\n",
        "        if nums[mid] > nums[right]:\n",
        "            left = mid + 1\n",
        "        else:\n",
        "            right = mid\n",
        "\n",
        "    return nums[left]\n",
        "nums = [3, 4, 5, 1, 2]\n",
        "print(findMin(nums))\n"
      ],
      "metadata": {
        "colab": {
          "base_uri": "https://localhost:8080/"
        },
        "id": "MqsYB_eo-xDC",
        "outputId": "1f6029df-176b-48b5-9112-cfe7047249ea"
      },
      "execution_count": 12,
      "outputs": [
        {
          "output_type": "stream",
          "name": "stdout",
          "text": [
            "1\n"
          ]
        }
      ]
    },
    {
      "cell_type": "code",
      "source": [
        "#answer8\n",
        "from collections import defaultdict\n",
        "\n",
        "def findOriginalArray(changed):\n",
        "    if len(changed) % 2 != 0:\n",
        "        return []\n",
        "\n",
        "    frequency_map = defaultdict(int)\n",
        "    for num in changed:\n",
        "        frequency_map[num] += 1\n",
        "\n",
        "    original = []\n",
        "    for num in sorted(frequency_map.keys()):\n",
        "        if frequency_map[num] > frequency_map[num * 2]:\n",
        "            return []\n",
        "\n",
        "        original.extend([num] * frequency_map[num])\n",
        "        frequency_map[num * 2] -= frequency_map[num]\n",
        "\n",
        "    return original if frequency_map[0] % 2 == 0 else []\n",
        "\n",
        "changed = [1, 3, 4, 2, 6, 8]\n",
        "print(findOriginalArray(changed))\n"
      ],
      "metadata": {
        "colab": {
          "base_uri": "https://localhost:8080/"
        },
        "id": "vOC1papO_Rla",
        "outputId": "f8f54f77-926b-4db8-a949-17c02b40890f"
      },
      "execution_count": 13,
      "outputs": [
        {
          "output_type": "stream",
          "name": "stdout",
          "text": [
            "[1, 3, 4]\n"
          ]
        }
      ]
    },
    {
      "cell_type": "code",
      "source": [],
      "metadata": {
        "id": "PAujWrJV_1A9"
      },
      "execution_count": null,
      "outputs": []
    }
  ]
}