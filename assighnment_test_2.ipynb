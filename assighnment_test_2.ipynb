{
  "nbformat": 4,
  "nbformat_minor": 0,
  "metadata": {
    "colab": {
      "provenance": [],
      "authorship_tag": "ABX9TyPu2oWwIU8kxBPELW41G8RK",
      "include_colab_link": true
    },
    "kernelspec": {
      "name": "python3",
      "display_name": "Python 3"
    },
    "language_info": {
      "name": "python"
    }
  },
  "cells": [
    {
      "cell_type": "markdown",
      "metadata": {
        "id": "view-in-github",
        "colab_type": "text"
      },
      "source": [
        "<a href=\"https://colab.research.google.com/github/syedmoazzam786/Books-Python/blob/main/assighnment_test_2.ipynb\" target=\"_parent\"><img src=\"https://colab.research.google.com/assets/colab-badge.svg\" alt=\"Open In Colab\"/></a>"
      ]
    },
    {
      "cell_type": "code",
      "execution_count": 2,
      "metadata": {
        "id": "Og8zyjSnwa53"
      },
      "outputs": [],
      "source": [
        "def firstUniqChar(s):\n",
        "    # Create a frequency dictionary to store the count of each character\n",
        "    frequency = {}\n",
        "\n",
        "    # Iterate over the string to calculate the frequencies\n",
        "    for char in s:\n",
        "        if char in frequency:\n",
        "            frequency[char] += 1\n",
        "        else:\n",
        "            frequency[char] = 1\n",
        "\n",
        "    # Iterate over the string again to find the first non-repeating character\n",
        "    for i, char in enumerate(s):\n",
        "        if frequency[char] == 1:\n",
        "            return i\n",
        "\n",
        "    # If no non-repeating character found, return -1\n",
        "    return -1\n"
      ]
    },
    {
      "cell_type": "code",
      "source": [
        "print(firstUniqChar(\"leetcode\"))\n",
        "print(firstUniqChar(\"loveleetcode\"))\n",
        "print(firstUniqChar(\"aabb\"))\n"
      ],
      "metadata": {
        "colab": {
          "base_uri": "https://localhost:8080/"
        },
        "id": "Lqh6XaWZwnFP",
        "outputId": "b154289a-d14a-4678-967e-41c1b0760a92"
      },
      "execution_count": 3,
      "outputs": [
        {
          "output_type": "stream",
          "name": "stdout",
          "text": [
            "0\n",
            "2\n",
            "-1\n"
          ]
        }
      ]
    },
    {
      "cell_type": "code",
      "source": [],
      "metadata": {
        "id": "g6tziG6Kw8yf"
      },
      "execution_count": null,
      "outputs": []
    },
    {
      "cell_type": "code",
      "source": [],
      "metadata": {
        "id": "0oxrxIORw9pg"
      },
      "execution_count": null,
      "outputs": []
    }
  ]
}