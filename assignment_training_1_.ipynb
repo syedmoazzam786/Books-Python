{
  "nbformat": 4,
  "nbformat_minor": 0,
  "metadata": {
    "colab": {
      "provenance": [],
      "authorship_tag": "ABX9TyOF5f/00q+VP2sNi8KVF0dl",
      "include_colab_link": true
    },
    "kernelspec": {
      "name": "python3",
      "display_name": "Python 3"
    },
    "language_info": {
      "name": "python"
    }
  },
  "cells": [
    {
      "cell_type": "markdown",
      "metadata": {
        "id": "view-in-github",
        "colab_type": "text"
      },
      "source": [
        "<a href=\"https://colab.research.google.com/github/syedmoazzam786/Books-Python/blob/main/assignment_training_1_.ipynb\" target=\"_parent\"><img src=\"https://colab.research.google.com/assets/colab-badge.svg\" alt=\"Open In Colab\"/></a>"
      ]
    },
    {
      "cell_type": "markdown",
      "source": [
        "answer 1"
      ],
      "metadata": {
        "id": "Lixi4YELllVJ"
      }
    },
    {
      "cell_type": "code",
      "source": [
        "def twoSum(nums, target):\n",
        "    num_map = {}\n",
        "\n",
        "    for i, num in enumerate(nums):\n",
        "        complement = target - num\n",
        "\n",
        "        if complement in num_map:\n",
        "            return [num_map[complement], i]\n",
        "\n",
        "        num_map[num] = i\n",
        "\n",
        "    return []\n",
        "\n",
        "\n",
        "nums = [2, 7, 11, 15]\n",
        "target = 9\n",
        "result = twoSum(nums, target)\n",
        "print(result)\n"
      ],
      "metadata": {
        "colab": {
          "base_uri": "https://localhost:8080/"
        },
        "id": "dzQCHce3vs2e",
        "outputId": "e89257da-f1df-4071-f845-6d2e6f81641a"
      },
      "execution_count": null,
      "outputs": [
        {
          "output_type": "stream",
          "name": "stdout",
          "text": [
            "[0, 1]\n"
          ]
        }
      ]
    },
    {
      "cell_type": "code",
      "source": [],
      "metadata": {
        "id": "7Tou8vn_vqZB"
      },
      "execution_count": null,
      "outputs": []
    },
    {
      "cell_type": "markdown",
      "source": [],
      "metadata": {
        "id": "P1lwwSndleOr"
      }
    },
    {
      "cell_type": "code",
      "source": [
        "#2\n",
        "\n",
        "def removeElement(nums, val):\n",
        "    i = 0\n",
        "    for j in range(len(nums)):\n",
        "        if nums[j] != val:\n",
        "            nums[i] = nums[j]\n",
        "            i += 1\n",
        "    return i"
      ],
      "metadata": {
        "id": "D-dZ8YMNrsGK"
      },
      "execution_count": null,
      "outputs": []
    },
    {
      "cell_type": "code",
      "source": [
        "nums = [3, 2, 2, 3]\n",
        "val = 3\n",
        "result = removeElement(nums, val)\n",
        "print(result)\n",
        "print(nums)"
      ],
      "metadata": {
        "colab": {
          "base_uri": "https://localhost:8080/"
        },
        "id": "uKb30Vzwrt7K",
        "outputId": "8be8f391-1a14-4918-dcef-04e24ae2f724"
      },
      "execution_count": null,
      "outputs": [
        {
          "output_type": "stream",
          "name": "stdout",
          "text": [
            "2\n",
            "[2, 2, 2, 3]\n"
          ]
        }
      ]
    },
    {
      "cell_type": "markdown",
      "source": [
        "answer 3"
      ],
      "metadata": {
        "id": "Z1iNS7ttrxPh"
      }
    },
    {
      "cell_type": "code",
      "source": [
        "def searchInsert(nums, target):\n",
        "    left = 0\n",
        "    right = len(nums) - 1\n",
        "\n",
        "    while left <= right:\n",
        "        mid = (left + right) // 2\n",
        "\n",
        "        if nums[mid] == target:\n",
        "            return mid\n",
        "        elif nums[mid] < target:\n",
        "            left = mid + 1\n",
        "        else:\n",
        "            right = mid - 1\n",
        "\n",
        "    return left\n"
      ],
      "metadata": {
        "id": "VaOJiHs_uWxo"
      },
      "execution_count": null,
      "outputs": []
    },
    {
      "cell_type": "code",
      "source": [
        "nums = [1,3,5,6]\n",
        "target = 5\n",
        "result = searchInsert(nums,target)\n",
        "print(result)"
      ],
      "metadata": {
        "colab": {
          "base_uri": "https://localhost:8080/"
        },
        "id": "VevbQ7D-ubEQ",
        "outputId": "b382e841-3341-43bb-a3ce-87da7ea2fc96"
      },
      "execution_count": null,
      "outputs": [
        {
          "output_type": "stream",
          "name": "stdout",
          "text": [
            "2\n"
          ]
        }
      ]
    },
    {
      "cell_type": "code",
      "source": [
        "answer 4"
      ],
      "metadata": {
        "id": "FX518hvEu8Di"
      },
      "execution_count": null,
      "outputs": []
    },
    {
      "cell_type": "code",
      "source": [
        "def plusOne(digits):\n",
        "    carry = 1\n",
        "\n",
        "    for i in range(len(digits) - 1, -1, -1):\n",
        "        digits[i] += carry\n",
        "\n",
        "        if digits[i] < 10:\n",
        "            carry = 0\n",
        "            break\n",
        "        else:\n",
        "            digits[i] = 0\n",
        "\n",
        "    if carry == 1:\n",
        "        digits.insert(0, 1)\n",
        "\n",
        "    return digits\n",
        "\n",
        "\n",
        "digits = [1, 2, 3]\n",
        "result = plusOne(digits)\n",
        "print(result)\n"
      ],
      "metadata": {
        "colab": {
          "base_uri": "https://localhost:8080/"
        },
        "id": "zYToh62PwyUb",
        "outputId": "2c6a43cd-a611-4c90-e692-35fda93bdd60"
      },
      "execution_count": null,
      "outputs": [
        {
          "output_type": "stream",
          "name": "stdout",
          "text": [
            "[1, 2, 4]\n"
          ]
        }
      ]
    },
    {
      "cell_type": "markdown",
      "source": [
        "answer 5\n"
      ],
      "metadata": {
        "id": "i9aXMvVhwwiN"
      }
    },
    {
      "cell_type": "code",
      "source": [
        "def merge(nums1, m, nums2, n):\n",
        "    p1 = m - 1\n",
        "    p2 = n - 1\n",
        "    p = m + n - 1\n",
        "\n",
        "    while p2 >= 0:\n",
        "        if p1 >= 0 and nums1[p1] >= nums2[p2]:\n",
        "            nums1[p] = nums1[p1]\n",
        "            p1 -= 1\n",
        "        else:\n",
        "            nums1[p] = nums2[p2]\n",
        "            p2 -= 1\n",
        "        p -= 1\n",
        "\n",
        "    # Copy remaining elements from nums2 to nums1\n",
        "    while p2 >= 0:\n",
        "        nums1[p] = nums2[p2]\n",
        "        p -= 1\n",
        "        p2 -= 1\n",
        "\n",
        "\n",
        "nums1 = [1, 2, 3, 0, 0, 0]\n",
        "m = 3\n",
        "nums2 = [2, 5, 6]\n",
        "n = 3\n",
        "merge(nums1, m, nums2, n)\n",
        "print(nums1)\n"
      ],
      "metadata": {
        "colab": {
          "base_uri": "https://localhost:8080/"
        },
        "id": "hE4TvL5mxP-X",
        "outputId": "42a3c58f-9f46-45cc-d740-d8a692726ca8"
      },
      "execution_count": null,
      "outputs": [
        {
          "output_type": "stream",
          "name": "stdout",
          "text": [
            "[1, 2, 2, 3, 5, 6]\n"
          ]
        }
      ]
    },
    {
      "cell_type": "code",
      "source": [
        "#answer 6\n",
        "def containsDuplicate(nums):\n",
        "    numSet = set()\n",
        "\n",
        "    for num in nums:\n",
        "        if num in numSet:\n",
        "            return True\n",
        "        numSet.add(num)\n",
        "\n",
        "    return False\n",
        "\n",
        "\n",
        "nums = [1, 2, 3, 1]\n",
        "result = containsDuplicate(nums)\n",
        "print(result)\n"
      ],
      "metadata": {
        "colab": {
          "base_uri": "https://localhost:8080/"
        },
        "id": "WyAf0oJVxUTR",
        "outputId": "44060cb8-af10-48d9-9328-2a0ab7844cb4"
      },
      "execution_count": null,
      "outputs": [
        {
          "output_type": "stream",
          "name": "stdout",
          "text": [
            "True\n"
          ]
        }
      ]
    },
    {
      "cell_type": "code",
      "source": [
        "# answer 7\n",
        "def moveZeroes(nums):\n",
        "    left = 0\n",
        "    right = 0\n",
        "\n",
        "    while right < len(nums):\n",
        "        if nums[right] != 0:\n",
        "            nums[left], nums[right] = nums[right], nums[left]\n",
        "            left += 1\n",
        "        right += 1\n",
        "\n",
        "    # Set remaining elements after left pointer to zero\n",
        "    while left < len(nums):\n",
        "        nums[left] = 0\n",
        "        left += 1\n",
        "\n",
        "\n",
        "nums = [0, 1, 0, 3, 12]\n",
        "moveZeroes(nums)\n",
        "print(nums)\n"
      ],
      "metadata": {
        "colab": {
          "base_uri": "https://localhost:8080/"
        },
        "id": "xrCIAK9CxjyG",
        "outputId": "57357cc9-2981-4c7d-a920-7b3ad081b593"
      },
      "execution_count": null,
      "outputs": [
        {
          "output_type": "stream",
          "name": "stdout",
          "text": [
            "[1, 3, 12, 0, 0]\n"
          ]
        }
      ]
    },
    {
      "cell_type": "code",
      "source": [
        "#8\n",
        "def findErrorNums(nums):\n",
        "    numSet = set()\n",
        "    duplicate = 0\n",
        "    missing = 0\n",
        "\n",
        "    for num in nums:\n",
        "        if num in numSet:\n",
        "            duplicate = num\n",
        "        numSet.add(num)\n",
        "\n",
        "    for i in range(1, len(nums) + 1):\n",
        "        if i not in numSet:\n",
        "            missing = i\n",
        "            break\n",
        "\n",
        "    return [duplicate, missing]\n",
        "\n",
        "nums = [1, 2, 2, 4]\n",
        "result = findErrorNums(nums)\n",
        "print(result)\n"
      ],
      "metadata": {
        "colab": {
          "base_uri": "https://localhost:8080/"
        },
        "id": "tvL0S-tUx2VS",
        "outputId": "e8b62d9e-fd8d-45f0-fd21-98bf229bedd2"
      },
      "execution_count": null,
      "outputs": [
        {
          "output_type": "stream",
          "name": "stdout",
          "text": [
            "[2, 3]\n"
          ]
        }
      ]
    },
    {
      "cell_type": "code",
      "source": [],
      "metadata": {
        "id": "wBac3EKnyKrQ"
      },
      "execution_count": null,
      "outputs": []
    }
  ]
}