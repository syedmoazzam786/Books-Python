{
  "nbformat": 4,
  "nbformat_minor": 0,
  "metadata": {
    "colab": {
      "provenance": [],
      "authorship_tag": "ABX9TyPEtWLZRh2ZNDbr1c05iOlz",
      "include_colab_link": true
    },
    "kernelspec": {
      "name": "python3",
      "display_name": "Python 3"
    },
    "language_info": {
      "name": "python"
    }
  },
  "cells": [
    {
      "cell_type": "markdown",
      "metadata": {
        "id": "view-in-github",
        "colab_type": "text"
      },
      "source": [
        "<a href=\"https://colab.research.google.com/github/syedmoazzam786/Books-Python/blob/main/preplacement_training_assignment_4.ipynb\" target=\"_parent\"><img src=\"https://colab.research.google.com/assets/colab-badge.svg\" alt=\"Open In Colab\"/></a>"
      ]
    },
    {
      "cell_type": "code",
      "execution_count": 1,
      "metadata": {
        "id": "SMmjTgSTzi1I"
      },
      "outputs": [],
      "source": [
        "# answer 1\n",
        "def arraysIntersection(arr1, arr2, arr3):\n",
        "    ptr1, ptr2, ptr3 = 0, 0, 0\n",
        "    result = []\n",
        "\n",
        "    while ptr1 < len(arr1) and ptr2 < len(arr2) and ptr3 < len(arr3):\n",
        "        if arr1[ptr1] == arr2[ptr2] == arr3[ptr3]:\n",
        "            result.append(arr1[ptr1])\n",
        "            ptr1 += 1\n",
        "            ptr2 += 1\n",
        "            ptr3 += 1\n",
        "        elif arr1[ptr1] < arr2[ptr2]:\n",
        "            ptr1 += 1\n",
        "        elif arr2[ptr2] < arr3[ptr3]:\n",
        "            ptr2 += 1\n",
        "        else:\n",
        "            ptr3 += 1\n",
        "\n",
        "    return result\n"
      ]
    },
    {
      "cell_type": "code",
      "source": [
        "arr1 = [1, 2, 3, 4, 5]\n",
        "arr2 = [1, 2, 5, 7, 9]\n",
        "arr3 = [1, 3, 4, 5, 8]\n",
        "print(arraysIntersection(arr1, arr2, arr3))\n"
      ],
      "metadata": {
        "colab": {
          "base_uri": "https://localhost:8080/"
        },
        "id": "TCn8yrihzzrr",
        "outputId": "b3ded9da-6862-4e37-dbd6-b366291244b1"
      },
      "execution_count": 2,
      "outputs": [
        {
          "output_type": "stream",
          "name": "stdout",
          "text": [
            "[1, 5]\n"
          ]
        }
      ]
    },
    {
      "cell_type": "code",
      "source": [
        "# answer 2\n",
        "def findDisappearedNumbers(nums1, nums2):\n",
        "    set1 = set(nums1)\n",
        "    set2 = set(nums2)\n",
        "    result1 = [num for num in nums1 if num not in set2]\n",
        "    result2 = [num for num in nums2 if num not in set1]\n",
        "    return [result1, result2]\n"
      ],
      "metadata": {
        "id": "Vwygh3SHz4qb"
      },
      "execution_count": 3,
      "outputs": []
    },
    {
      "cell_type": "code",
      "source": [
        "nums1 = [1, 2, 3]\n",
        "nums2 = [2, 4, 6]\n",
        "print(findDisappearedNumbers(nums1, nums2))\n"
      ],
      "metadata": {
        "colab": {
          "base_uri": "https://localhost:8080/"
        },
        "id": "1AKpn1FC0HyC",
        "outputId": "95b18cc5-ccec-4c56-9b6e-5c6651fc36c1"
      },
      "execution_count": 4,
      "outputs": [
        {
          "output_type": "stream",
          "name": "stdout",
          "text": [
            "[[1, 3], [4, 6]]\n"
          ]
        }
      ]
    },
    {
      "cell_type": "code",
      "source": [
        "# answer 3\n",
        "def transpose(matrix):\n",
        "    rows = len(matrix)\n",
        "    columns = len(matrix[0])\n",
        "    transposed = [[0] * rows for _ in range(columns)]\n",
        "    for i in range(rows):\n",
        "        for j in range(columns):\n",
        "            transposed[j][i] = matrix[i][j]\n",
        "    return transposed\n"
      ],
      "metadata": {
        "id": "7tRHgPj_0LNk"
      },
      "execution_count": 5,
      "outputs": []
    },
    {
      "cell_type": "code",
      "source": [
        "matrix = [[1, 2, 3], [4, 5, 6], [7, 8, 9]]\n",
        "print(transpose(matrix))\n"
      ],
      "metadata": {
        "colab": {
          "base_uri": "https://localhost:8080/"
        },
        "id": "9a0Dok020eYA",
        "outputId": "c2f89368-45f0-4bb7-8e3d-5facad817a5c"
      },
      "execution_count": 6,
      "outputs": [
        {
          "output_type": "stream",
          "name": "stdout",
          "text": [
            "[[1, 4, 7], [2, 5, 8], [3, 6, 9]]\n"
          ]
        }
      ]
    },
    {
      "cell_type": "code",
      "source": [
        "# answer 4\n",
        "def arrayPairSum(nums):\n",
        "    nums.sort()\n",
        "    max_sum = 0\n",
        "    for i in range(0, len(nums), 2):\n",
        "        max_sum += nums[i]\n",
        "    return max_sum\n",
        "nums = [1, 4, 3, 2]\n",
        "print(arrayPairSum(nums))\n"
      ],
      "metadata": {
        "colab": {
          "base_uri": "https://localhost:8080/"
        },
        "id": "eXEKc1s40hV7",
        "outputId": "5ab7c680-63e4-400b-df14-edebdcf7d658"
      },
      "execution_count": 8,
      "outputs": [
        {
          "output_type": "stream",
          "name": "stdout",
          "text": [
            "4\n"
          ]
        }
      ]
    },
    {
      "cell_type": "code",
      "source": [
        "# answer 5\n",
        "def arrangeCoins(n):\n",
        "    k = 0\n",
        "    while k * (k + 1) // 2 <= n:\n",
        "        k += 1\n",
        "    return k - 1\n"
      ],
      "metadata": {
        "id": "Rb3Rz5R00yP9"
      },
      "execution_count": 9,
      "outputs": []
    },
    {
      "cell_type": "code",
      "source": [
        "n = 5\n",
        "print(arrangeCoins(n))\n"
      ],
      "metadata": {
        "colab": {
          "base_uri": "https://localhost:8080/"
        },
        "id": "bJllZErY1KIU",
        "outputId": "4f016d75-92d3-4e7e-bdeb-d3bc3c4f6676"
      },
      "execution_count": 10,
      "outputs": [
        {
          "output_type": "stream",
          "name": "stdout",
          "text": [
            "2\n"
          ]
        }
      ]
    },
    {
      "cell_type": "code",
      "source": [
        "# answer 6\n",
        "def sortedSquares(nums):\n",
        "    result = []\n",
        "    left = 0\n",
        "    right = len(nums) - 1\n",
        "\n",
        "    while left <= right:\n",
        "        if abs(nums[left]) >= abs(nums[right]):\n",
        "            result.append(nums[left] * nums[left])\n",
        "            left += 1\n",
        "        else:\n",
        "            result.append(nums[right] * nums[right])\n",
        "            right -= 1\n",
        "\n",
        "    for i in range(right, left - 1, -1):\n",
        "        result.append(nums[i] * nums[i])\n",
        "\n",
        "    result.reverse()\n",
        "    return result\n"
      ],
      "metadata": {
        "id": "j0JyVxVl1Pbs"
      },
      "execution_count": 11,
      "outputs": []
    },
    {
      "cell_type": "code",
      "source": [
        "nums = [-4, -1, 0, 3, 10]\n",
        "print(sortedSquares(nums))\n"
      ],
      "metadata": {
        "colab": {
          "base_uri": "https://localhost:8080/"
        },
        "id": "b6hskvFK1etI",
        "outputId": "ebe9a6b8-6f69-4088-b4a2-b3bac541d38e"
      },
      "execution_count": 12,
      "outputs": [
        {
          "output_type": "stream",
          "name": "stdout",
          "text": [
            "[0, 1, 9, 16, 100]\n"
          ]
        }
      ]
    },
    {
      "cell_type": "code",
      "source": [
        "# answer 7\n",
        "def maxCount(m, n, ops):\n",
        "    minRow = m\n",
        "    minCol = n\n",
        "\n",
        "    for op in ops:\n",
        "        minRow = min(minRow, op[0])\n",
        "        minCol = min(minCol, op[1])\n",
        "\n",
        "    return minRow * minCol\n"
      ],
      "metadata": {
        "id": "2JfD-1mr1i9q"
      },
      "execution_count": 13,
      "outputs": []
    },
    {
      "cell_type": "code",
      "source": [
        "m = 3\n",
        "n = 3\n",
        "ops = [[2, 2], [3, 3]]\n",
        "print(maxCount(m, n, ops))\n"
      ],
      "metadata": {
        "colab": {
          "base_uri": "https://localhost:8080/"
        },
        "id": "jiV4oHOP1v3f",
        "outputId": "10ee33ad-fa95-434c-dede-876c688622ce"
      },
      "execution_count": 14,
      "outputs": [
        {
          "output_type": "stream",
          "name": "stdout",
          "text": [
            "4\n"
          ]
        }
      ]
    },
    {
      "cell_type": "code",
      "source": [
        "# answer 8\n",
        "def shuffle(nums, n):\n",
        "    result = []\n",
        "    for i in range(n):\n",
        "        result.append(nums[i])\n",
        "        result.append(nums[i+n])\n",
        "    return result\n"
      ],
      "metadata": {
        "id": "YbySY3HU1z4e"
      },
      "execution_count": 15,
      "outputs": []
    },
    {
      "cell_type": "code",
      "source": [
        "nums = [2, 5, 1, 3, 4, 7]\n",
        "n = 3\n",
        "print(shuffle(nums, n))\n"
      ],
      "metadata": {
        "colab": {
          "base_uri": "https://localhost:8080/"
        },
        "id": "TVfO37131_yj",
        "outputId": "0d891e08-e45d-4431-9138-afa312361c72"
      },
      "execution_count": 16,
      "outputs": [
        {
          "output_type": "stream",
          "name": "stdout",
          "text": [
            "[2, 3, 5, 4, 1, 7]\n"
          ]
        }
      ]
    },
    {
      "cell_type": "code",
      "source": [],
      "metadata": {
        "id": "iV6hF4Pa2DZX"
      },
      "execution_count": null,
      "outputs": []
    }
  ]
}