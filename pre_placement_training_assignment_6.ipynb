{
  "nbformat": 4,
  "nbformat_minor": 0,
  "metadata": {
    "colab": {
      "provenance": [],
      "authorship_tag": "ABX9TyMXKshS6w4BBC0e5glAegI7",
      "include_colab_link": true
    },
    "kernelspec": {
      "name": "python3",
      "display_name": "Python 3"
    },
    "language_info": {
      "name": "python"
    }
  },
  "cells": [
    {
      "cell_type": "markdown",
      "metadata": {
        "id": "view-in-github",
        "colab_type": "text"
      },
      "source": [
        "<a href=\"https://colab.research.google.com/github/syedmoazzam786/Books-Python/blob/main/pre_placement_training_assignment_6.ipynb\" target=\"_parent\"><img src=\"https://colab.research.google.com/assets/colab-badge.svg\" alt=\"Open In Colab\"/></a>"
      ]
    },
    {
      "cell_type": "code",
      "execution_count": null,
      "metadata": {
        "id": "mjwmJF-pZxV3"
      },
      "outputs": [],
      "source": [
        "#answer1\n",
        "def findPermutation(s):\n",
        "    n = len(s)\n",
        "    perm = []\n",
        "    low, high = 0, n\n",
        "\n",
        "    for ch in s:\n",
        "        if ch == 'I':\n",
        "            perm.append(low)\n",
        "            low += 1\n",
        "        elif ch == 'D':\n",
        "            perm.append(high)\n",
        "            high -= 1\n",
        "\n",
        "    perm.append(low)  # or perm.append(high)\n",
        "    return perm\n"
      ]
    },
    {
      "cell_type": "code",
      "source": [
        "s = \"IDID\"\n",
        "print(findPermutation(s))\n"
      ],
      "metadata": {
        "colab": {
          "base_uri": "https://localhost:8080/"
        },
        "id": "6cgWjXPlaC7t",
        "outputId": "f6466c53-09fc-4c1e-a8c7-cc5988a7fc66"
      },
      "execution_count": null,
      "outputs": [
        {
          "output_type": "stream",
          "name": "stdout",
          "text": [
            "[0, 4, 1, 3, 2]\n"
          ]
        }
      ]
    },
    {
      "cell_type": "code",
      "source": [
        "#answer2\n",
        "def searchMatrix(matrix, target):\n",
        "    if not matrix or not matrix[0]:\n",
        "        return False\n",
        "\n",
        "    m, n = len(matrix), len(matrix[0])\n",
        "    left, right = 0, m * n - 1\n",
        "\n",
        "    while left <= right:\n",
        "        mid = left + (right - left) // 2\n",
        "        row = mid // n\n",
        "        col = mid % n\n",
        "\n",
        "        if matrix[row][col] == target:\n",
        "            return True\n",
        "        elif matrix[row][col] < target:\n",
        "            left = mid + 1\n",
        "        else:\n",
        "            right = mid - 1\n",
        "\n",
        "    return False\n"
      ],
      "metadata": {
        "id": "7LIEX7KXaGY3"
      },
      "execution_count": null,
      "outputs": []
    },
    {
      "cell_type": "code",
      "source": [
        "matrix = [[1, 3, 5, 7], [10, 11, 16, 20], [23, 30, 34, 60]]\n",
        "target = 3\n",
        "print(searchMatrix(matrix, target))\n"
      ],
      "metadata": {
        "colab": {
          "base_uri": "https://localhost:8080/"
        },
        "id": "Q4B28aDsbBoG",
        "outputId": "1521a64a-f0a1-4514-b261-7c8476bf942e"
      },
      "execution_count": null,
      "outputs": [
        {
          "output_type": "stream",
          "name": "stdout",
          "text": [
            "True\n"
          ]
        }
      ]
    },
    {
      "cell_type": "code",
      "source": [
        "#answer 3\n",
        "def validMountainArray(arr):\n",
        "    n = len(arr)\n",
        "    if n < 3:\n",
        "        return False\n",
        "\n",
        "    i = 1\n",
        "    while i < n and arr[i] > arr[i-1]:\n",
        "        i += 1\n",
        "\n",
        "    if i == 1 or i == n:\n",
        "        return False\n",
        "\n",
        "    while i < n and arr[i] < arr[i-1]:\n",
        "        i += 1\n",
        "\n",
        "    return i == n\n",
        "\n",
        "\n",
        "\n",
        "arr = [2, 1]\n",
        "print(validMountainArray(arr))\n"
      ],
      "metadata": {
        "colab": {
          "base_uri": "https://localhost:8080/"
        },
        "id": "O7tQtW4WbE2n",
        "outputId": "ddec90ea-615a-4f71-aeed-ad1599aeaa83"
      },
      "execution_count": null,
      "outputs": [
        {
          "output_type": "stream",
          "name": "stdout",
          "text": [
            "False\n"
          ]
        }
      ]
    },
    {
      "cell_type": "code",
      "source": [
        "#answer4\n",
        "def findMaxLength(nums):\n",
        "    prefix_sums = {0: -1}\n",
        "    count = 0\n",
        "    max_len = 0\n",
        "\n",
        "    for i in range(len(nums)):\n",
        "        if nums[i] == 0:\n",
        "            count += 1\n",
        "        else:\n",
        "            count -= 1\n",
        "\n",
        "        if count in prefix_sums:\n",
        "            subarray_len = i - prefix_sums[count]\n",
        "            max_len = max(max_len, subarray_len)\n",
        "        else:\n",
        "            prefix_sums[count] = i\n",
        "\n",
        "    return max_len\n",
        "\n",
        "\n",
        "\n",
        "nums = [0, 1]\n",
        "print(findMaxLength(nums))\n"
      ],
      "metadata": {
        "colab": {
          "base_uri": "https://localhost:8080/"
        },
        "id": "fdNrKInebdim",
        "outputId": "56f23e83-ea4c-473e-aabe-e6297b4a1946"
      },
      "execution_count": null,
      "outputs": [
        {
          "output_type": "stream",
          "name": "stdout",
          "text": [
            "2\n"
          ]
        }
      ]
    },
    {
      "cell_type": "code",
      "source": [
        "#answer5\n",
        "def minProductSum(nums1, nums2):\n",
        "    nums1.sort()\n",
        "    nums2.sort(reverse=True)\n",
        "\n",
        "    min_product_sum = 0\n",
        "\n",
        "    for i in range(len(nums1)):\n",
        "        min_product_sum += nums1[i] * nums2[i]\n",
        "\n",
        "    return min_product_sum\n",
        "\n",
        "\n",
        "\n",
        "nums1 = [5, 3, 4, 2]\n",
        "nums2 = [4, 2, 2, 5]\n",
        "print(minProductSum(nums1, nums2))\n"
      ],
      "metadata": {
        "colab": {
          "base_uri": "https://localhost:8080/"
        },
        "id": "VE1nx861bskW",
        "outputId": "375d621d-a103-4fc0-a4e7-76dc21d98af3"
      },
      "execution_count": null,
      "outputs": [
        {
          "output_type": "stream",
          "name": "stdout",
          "text": [
            "40\n"
          ]
        }
      ]
    },
    {
      "cell_type": "code",
      "source": [
        "#answer7"
      ],
      "metadata": {
        "id": "rwxS4YBr10d2"
      },
      "execution_count": null,
      "outputs": []
    },
    {
      "cell_type": "code",
      "source": [
        "def generateMatrix(n):\n",
        "    matrix = [[0] * n for _ in range(n)]\n",
        "    row, col = 0, 0\n",
        "    direction = \"right\"\n",
        "    max_value = n * n\n",
        "\n",
        "    for value in range(1, max_value + 1):\n",
        "        matrix[row][col] = value\n",
        "\n",
        "        if direction == \"right\":\n",
        "            col += 1\n",
        "        elif direction == \"down\":\n",
        "            row += 1\n",
        "        elif direction == \"left\":\n",
        "            col -= 1\n",
        "        elif direction == \"up\":\n",
        "            row -= 1\n",
        "\n",
        "        if (\n",
        "            col == n\n",
        "            or row == n\n",
        "            or col == -1\n",
        "            or row == -1\n",
        "            or matrix[row][col] != 0\n",
        "        ):\n",
        "            if direction == \"right\":\n",
        "                direction = \"down\"\n",
        "                col -= 1\n",
        "                row += 1\n",
        "            elif direction == \"down\":\n",
        "                direction = \"left\"\n",
        "                row -= 1\n",
        "                col -= 1\n",
        "            elif direction == \"left\":\n",
        "                direction = \"up\"\n",
        "                col += 1\n",
        "                row -= 1\n",
        "            elif direction == \"up\":\n",
        "                direction = \"right\"\n",
        "                row += 1\n",
        "                col += 1\n",
        "\n",
        "    return matrix\n",
        "\n",
        "\n",
        "\n",
        "n = 3\n",
        "print(generateMatrix(n))\n"
      ],
      "metadata": {
        "colab": {
          "base_uri": "https://localhost:8080/"
        },
        "id": "-RNUmMVP3A15",
        "outputId": "c70bbcc9-9368-4096-d5fb-34334b28ab33"
      },
      "execution_count": null,
      "outputs": [
        {
          "output_type": "stream",
          "name": "stdout",
          "text": [
            "[[1, 2, 3], [8, 9, 4], [7, 6, 5]]\n"
          ]
        }
      ]
    },
    {
      "cell_type": "code",
      "source": [
        "#answer8\n",
        "def multiply(mat1, mat2):\n",
        "    m = len(mat1)\n",
        "    n = len(mat2[0])\n",
        "    k = len(mat2)\n",
        "\n",
        "    result = [[0] * n for _ in range(m)]\n",
        "\n",
        "    for i in range(m):\n",
        "        for j in range(n):\n",
        "            for p in range(k):\n",
        "                if mat1[i][p] != 0 and mat2[p][j] != 0:\n",
        "                    result[i][j] += mat1[i][p] * mat2[p][j]\n",
        "\n",
        "    return result\n",
        "mat1 = [[1, 0, 0], [-1, 0, 3]]\n",
        "mat2 = [[7, 0, 0], [0, 0, 0], [0, 0, 1]]\n",
        "print(multiply(mat1, mat2))\n"
      ],
      "metadata": {
        "colab": {
          "base_uri": "https://localhost:8080/"
        },
        "id": "Gc0W3il03DYw",
        "outputId": "33f6140d-a32b-40c8-e5f3-98bc510ad82e"
      },
      "execution_count": null,
      "outputs": [
        {
          "output_type": "stream",
          "name": "stdout",
          "text": [
            "[[7, 0, 0], [-7, 0, 3]]\n"
          ]
        }
      ]
    },
    {
      "cell_type": "code",
      "source": [],
      "metadata": {
        "id": "ORBLtbWG3dGh"
      },
      "execution_count": null,
      "outputs": []
    }
  ]
}